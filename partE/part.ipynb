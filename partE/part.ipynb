{
 "cells": [
  {
   "cell_type": "code",
   "execution_count": 8,
   "metadata": {},
   "outputs": [
    {
     "name": "stdout",
     "output_type": "stream",
     "text": [
      "Overwriting model.essence\n"
     ]
    }
   ],
   "source": [
    "%%writefile model.essence\n",
    "language Essence 1.3\n",
    "\n",
    "given weightLimit, volumeLimit : int\n",
    "given numItems : int\n",
    "\n",
    "letting ITEMS be domain int(1..numItems)\n",
    "\n",
    "given weights : function ITEMS --> int\n",
    "given volumes : function ITEMS --> int\n",
    "given impacts : function ITEMS --> int\n",
    "\n",
    "find selected : set of ITEMS\n",
    "\n",
    "maximising sum i in selected . impacts(i)\n",
    "\n",
    "such that\n",
    "    (sum i in selected . weights(i)) <= weightLimit,\n",
    "    (sum i in selected . volumes(i)) <= volumeLimit"
   ]
  },
  {
   "cell_type": "code",
   "execution_count": 9,
   "metadata": {},
   "outputs": [
    {
     "name": "stdout",
     "output_type": "stream",
     "text": [
      "Overwriting data1.essence\n"
     ]
    }
   ],
   "source": [
    "%%writefile data1.essence\n",
    "language Essence 1.3\n",
    "\n",
    "letting weightLimit be 6000\n",
    "letting volumeLimit be 6000\n",
    "letting numItems be 10\n",
    "\n",
    "letting weights be function(\n",
    "    1 --> 500,  \n",
    "    2 --> 500,   \n",
    "    3 --> 600,  \n",
    "    4 --> 200,   \n",
    "    5 --> 1000,  \n",
    "    6 --> 700,   \n",
    "    7 --> 900,   \n",
    "    8 --> 1000, \n",
    "    9 --> 500,   \n",
    "    10 --> 1000  \n",
    ")\n",
    "\n",
    "letting volumes be function(\n",
    "    1 --> 1000,\n",
    "    2 --> 1000,\n",
    "    3 --> 1500,\n",
    "    4 --> 500,\n",
    "    5 --> 1500,\n",
    "    6 --> 1000,\n",
    "    7 --> 1600,\n",
    "    8 --> 1200,\n",
    "    9 --> 700,\n",
    "    10 --> 2000\n",
    ")\n",
    "\n",
    "letting impacts be function(\n",
    "    1 --> 8,\n",
    "    2 --> 7,\n",
    "    3 --> 8,\n",
    "    4 --> 8,\n",
    "    5 --> 8,\n",
    "    6 --> 7,\n",
    "    7 --> 9,\n",
    "    8 --> 10,\n",
    "    9 --> 7,\n",
    "    10 --> 4\n",
    ")"
   ]
  },
  {
   "cell_type": "code",
   "execution_count": 10,
   "metadata": {},
   "outputs": [
    {
     "name": "stdout",
     "output_type": "stream",
     "text": [
      "Overwriting data2.essence\n"
     ]
    }
   ],
   "source": [
    "%%writefile data2.essence\n",
    "language Essence 1.3\n",
    "\n",
    "letting weightLimit be 6000\n",
    "letting volumeLimit be 6000\n",
    "letting numItems be 20\n",
    "\n",
    "letting weights be function(\n",
    "    1 --> 500,   2 --> 500,   3 --> 600,   4 --> 200,   5 --> 1000,\n",
    "    6 --> 700,   7 --> 900,   8 --> 1000,  9 --> 500,   10 --> 1000,\n",
    "    11 --> 300,  12 --> 400,  13 --> 800,  14 --> 250,  15 --> 350,\n",
    "    16 --> 750,  17 --> 950,  18 --> 550,  19 --> 650,  20 --> 450\n",
    ")\n",
    "\n",
    "letting volumes be function(\n",
    "    1 --> 1000,  2 --> 1000,  3 --> 1500,  4 --> 500,   5 --> 1500,\n",
    "    6 --> 1000,  7 --> 1600,  8 --> 1200,  9 --> 700,   10 --> 2000,\n",
    "    11 --> 600,  12 --> 800,  13 --> 1700, 14 --> 400,  15 --> 900,\n",
    "    16 --> 1100, 17 --> 1800, 18 --> 850,  19 --> 950,  20 --> 750\n",
    ")\n",
    "\n",
    "letting impacts be function(\n",
    "    1 --> 8,     2 --> 7,     3 --> 8,     4 --> 8,     5 --> 8,\n",
    "    6 --> 7,     7 --> 9,     8 --> 10,    9 --> 7,     10 --> 4,\n",
    "    11 --> 6,    12 --> 5,    13 --> 9,    14 --> 7,    15 --> 6,\n",
    "    16 --> 8,    17 --> 5,    18 --> 7,    19 --> 6,    20 --> 8\n",
    ")"
   ]
  },
  {
   "cell_type": "code",
   "execution_count": 11,
   "metadata": {},
   "outputs": [
    {
     "name": "stdout",
     "output_type": "stream",
     "text": [
      "Overwriting data3.essence\n"
     ]
    }
   ],
   "source": [
    "%%writefile data3.essence\n",
    "language Essence 1.3\n",
    "\n",
    "letting weightLimit be 6000\n",
    "letting volumeLimit be 6000\n",
    "letting numItems be 30\n",
    "\n",
    "letting weights be function(\n",
    "    1 --> 500,   2 --> 500,   3 --> 600,   4 --> 200,   5 --> 1000,\n",
    "    6 --> 700,   7 --> 900,   8 --> 1000,  9 --> 500,   10 --> 1000,\n",
    "    11 --> 300,  12 --> 400,  13 --> 800,  14 --> 250,  15 --> 350,\n",
    "    16 --> 750,  17 --> 950,  18 --> 550,  19 --> 650,  20 --> 450,\n",
    "    21 --> 380,  22 --> 420,  23 --> 580,  24 --> 680,  25 --> 480,\n",
    "    26 --> 520,  27 --> 720,  28 --> 320,  29 --> 880,  30 --> 280\n",
    ")\n",
    "\n",
    "letting volumes be function(\n",
    "    1 --> 1000,  2 --> 1000,  3 --> 1500,  4 --> 500,   5 --> 1500,\n",
    "    6 --> 1000,  7 --> 1600,  8 --> 1200,  9 --> 700,   10 --> 2000,\n",
    "    11 --> 600,  12 --> 800,  13 --> 1700, 14 --> 400,  15 --> 900,\n",
    "    16 --> 1100, 17 --> 1800, 18 --> 850,  19 --> 950,  20 --> 750,\n",
    "    21 --> 650,  22 --> 950,  23 --> 1250, 24 --> 550,  25 --> 850,\n",
    "    26 --> 1050, 27 --> 1150, 28 --> 350,  29 --> 1650, 30 --> 450\n",
    ")\n",
    "\n",
    "letting impacts be function(\n",
    "    1 --> 8,     2 --> 7,     3 --> 8,     4 --> 8,     5 --> 8,\n",
    "    6 --> 7,     7 --> 9,     8 --> 10,    9 --> 7,     10 --> 4,\n",
    "    11 --> 6,    12 --> 5,    13 --> 9,    14 --> 7,    15 --> 6,\n",
    "    16 --> 8,    17 --> 5,    18 --> 7,    19 --> 6,    20 --> 8,\n",
    "    21 --> 7,    22 --> 6,    23 --> 9,    24 --> 5,    25 --> 7,\n",
    "    26 --> 8,    27 --> 6,    28 --> 5,    29 --> 4,    30 --> 6\n",
    ")"
   ]
  },
  {
   "cell_type": "code",
   "execution_count": 12,
   "metadata": {},
   "outputs": [
    {
     "name": "stdout",
     "output_type": "stream",
     "text": [
      "Overwriting data4.essence\n"
     ]
    }
   ],
   "source": [
    "%%writefile data4.essence\n",
    "language Essence 1.3\n",
    "\n",
    "letting weightLimit be 6000\n",
    "letting volumeLimit be 6000\n",
    "letting numItems be 40\n",
    "\n",
    "letting weights be function(\n",
    "    1 --> 500,   2 --> 500,   3 --> 600,   4 --> 200,   5 --> 1000,\n",
    "    6 --> 700,   7 --> 900,   8 --> 1000,  9 --> 500,   10 --> 1000,\n",
    "    11 --> 300,  12 --> 400,  13 --> 800,  14 --> 250,  15 --> 350,\n",
    "    16 --> 750,  17 --> 950,  18 --> 550,  19 --> 650,  20 --> 450,\n",
    "    21 --> 380,  22 --> 420,  23 --> 580,  24 --> 680,  25 --> 480,\n",
    "    26 --> 520,  27 --> 720,  28 --> 320,  29 --> 880,  30 --> 280,\n",
    "    31 --> 330,  32 --> 470,  33 --> 530,  34 --> 670,  35 --> 430,\n",
    "    36 --> 570,  37 --> 630,  38 --> 370,  39 --> 830,  40 --> 290\n",
    ")\n",
    "\n",
    "letting volumes be function(\n",
    "    1 --> 1000,  2 --> 1000,  3 --> 1500,  4 --> 500,   5 --> 1500,\n",
    "    6 --> 1000,  7 --> 1600,  8 --> 1200,  9 --> 700,   10 --> 2000,\n",
    "    11 --> 600,  12 --> 800,  13 --> 1700, 14 --> 400,  15 --> 900,\n",
    "    16 --> 1100, 17 --> 1800, 18 --> 850,  19 --> 950,  20 --> 750,\n",
    "    21 --> 650,  22 --> 950,  23 --> 1250, 24 --> 550,  25 --> 850,\n",
    "    26 --> 1050, 27 --> 1150, 28 --> 350,  29 --> 1650, 30 --> 450,\n",
    "    31 --> 750,  32 --> 550,  33 --> 950,  34 --> 850,  35 --> 650,\n",
    "    36 --> 1150, 37 --> 1250, 38 --> 450,  39 --> 1550, 40 --> 550\n",
    ")\n",
    "\n",
    "letting impacts be function(\n",
    "    1 --> 8,     2 --> 7,     3 --> 8,     4 --> 8,     5 --> 8,\n",
    "    6 --> 7,     7 --> 9,     8 --> 10,    9 --> 7,     10 --> 4,\n",
    "    11 --> 6,    12 --> 5,    13 --> 9,    14 --> 7,    15 --> 6,\n",
    "    16 --> 8,    17 --> 5,    18 --> 7,    19 --> 6,    20 --> 8,\n",
    "    21 --> 7,    22 --> 6,    23 --> 9,    24 --> 5,    25 --> 7,\n",
    "    26 --> 8,    27 --> 6,    28 --> 5,    29 --> 4,    30 --> 6,\n",
    "    31 --> 7,    32 --> 6,    33 --> 5,    34 --> 7,    35 --> 6,\n",
    "    36 --> 5,    37 --> 4,    38 --> 7,    39 --> 3,    40 --> 5\n",
    ")"
   ]
  },
  {
   "cell_type": "code",
   "execution_count": 13,
   "metadata": {},
   "outputs": [
    {
     "name": "stdout",
     "output_type": "stream",
     "text": [
      "Overwriting data5.essence\n"
     ]
    }
   ],
   "source": [
    "%%writefile data5.essence\n",
    "language Essence 1.3\n",
    "\n",
    "letting weightLimit be 6000\n",
    "letting volumeLimit be 6000\n",
    "letting numItems be 50\n",
    "\n",
    "letting weights be function(\n",
    "    1 --> 500,   2 --> 500,   3 --> 600,   4 --> 200,   5 --> 1000,\n",
    "    6 --> 700,   7 --> 900,   8 --> 1000,  9 --> 500,   10 --> 1000,\n",
    "    11 --> 300,  12 --> 400,  13 --> 800,  14 --> 250,  15 --> 350,\n",
    "    16 --> 750,  17 --> 950,  18 --> 550,  19 --> 650,  20 --> 450,\n",
    "    21 --> 380,  22 --> 420,  23 --> 580,  24 --> 680,  25 --> 480,\n",
    "    26 --> 520,  27 --> 720,  28 --> 320,  29 --> 880,  30 --> 280,\n",
    "    31 --> 330,  32 --> 470,  33 --> 530,  34 --> 670,  35 --> 430,\n",
    "    36 --> 570,  37 --> 630,  38 --> 370,  39 --> 830,  40 --> 290,\n",
    "    41 --> 360,  42 --> 440,  43 --> 510,  44 --> 690,  45 --> 490,\n",
    "    46 --> 540,  47 --> 710,  48 --> 310,  49 --> 860,  50 --> 270\n",
    ")\n",
    "\n",
    "letting volumes be function(\n",
    "    1 --> 1000,  2 --> 1000,  3 --> 1500,  4 --> 500,   5 --> 1500,\n",
    "    6 --> 1000,  7 --> 1600,  8 --> 1200,  9 --> 700,   10 --> 2000,\n",
    "    11 --> 600,  12 --> 800,  13 --> 1700, 14 --> 400,  15 --> 900,\n",
    "    16 --> 1100, 17 --> 1800, 18 --> 850,  19 --> 950,  20 --> 750,\n",
    "    21 --> 650,  22 --> 950,  23 --> 1250, 24 --> 550,  25 --> 850,\n",
    "    26 --> 1050, 27 --> 1150, 28 --> 350,  29 --> 1650, 30 --> 450,\n",
    "    31 --> 750,  32 --> 550,  33 --> 950,  34 --> 850,  35 --> 650,\n",
    "    36 --> 1150, 37 --> 1250, 38 --> 450,  39 --> 1550, 40 --> 550,\n",
    "    41 --> 850,  42 --> 650,  43 --> 1050, 44 --> 950,  45 --> 750,\n",
    "    46 --> 550,  47 --> 1350, 48 --> 350,  49 --> 1450, 50 --> 450\n",
    ")\n",
    "\n",
    "letting impacts be function(\n",
    "    1 --> 8,     2 --> 7,     3 --> 8,     4 --> 8,     5 --> 8,\n",
    "    6 --> 7,     7 --> 9,     8 --> 10,    9 --> 7,     10 --> 4,\n",
    "    11 --> 6,    12 --> 5,    13 --> 9,    14 --> 7,    15 --> 6,\n",
    "    16 --> 8,    17 --> 5,    18 --> 7,    19 --> 6,    20 --> 8,\n",
    "    21 --> 7,    22 --> 6,    23 --> 9,    24 --> 5,    25 --> 7,\n",
    "    26 --> 8,    27 --> 6,    28 --> 5,    29 --> 4,    30 --> 6,\n",
    "    31 --> 7,    32 --> 6,    33 --> 5,    34 --> 7,    35 --> 6,\n",
    "    36 --> 5,    37 --> 4,    38 --> 7,    39 --> 3,    40 --> 5,\n",
    "    41 --> 6,    42 --> 5,    43 --> 4,    44 --> 6,    45 --> 5,\n",
    "    46 --> 4,    47 --> 3,    48 --> 6,    49 --> 2,    50 --> 4\n",
    ")"
   ]
  },
  {
   "cell_type": "code",
   "execution_count": 14,
   "metadata": {},
   "outputs": [
    {
     "name": "stdout",
     "output_type": "stream",
     "text": [
      "solver      chuffed    gecode     minion\n",
      "dataset                                 \n",
      "data1      0.520142  0.015484   1.169880\n",
      "data2      0.558111  0.016546   0.537940\n",
      "data3      1.261622  0.015233   0.648398\n",
      "data4     18.879250  0.015710   1.858404\n",
      "data5    529.759433  0.018353  11.078537\n"
     ]
    }
   ],
   "source": [
    "import subprocess\n",
    "import pandas as pd\n",
    "import time\n",
    "\n",
    "solvers = ['minion', 'gecode', 'chuffed']\n",
    "datasets = ['data1', 'data2', 'data3', 'data4', 'data5']\n",
    "results = []\n",
    "\n",
    "for solver in solvers:\n",
    "    for dataset in datasets:\n",
    "        start_time = time.time()\n",
    "        \n",
    "        # 运行Conjure命令\n",
    "        cmd = f\"conjure solve model.essence {dataset}.essence --solver={solver}\"\n",
    "        process = subprocess.Popen(cmd, shell=True, stdout=subprocess.PIPE, stderr=subprocess.PIPE)\n",
    "        stdout, stderr = process.communicate()\n",
    "        \n",
    "        # 获取运行时间\n",
    "        solve_time = time.time() - start_time\n",
    "        \n",
    "        # 解析输出获取其他统计信息（这里简化处理）\n",
    "        stats = {\n",
    "            'solver': solver,\n",
    "            'dataset': dataset,\n",
    "            'solve_time': solve_time,\n",
    "            'status': 'Solved' if 'Solution' in stdout.decode() else 'Failed'\n",
    "        }\n",
    "        results.append(stats)\n",
    "\n",
    "# 转换为DataFrame\n",
    "df = pd.DataFrame(results)\n",
    "print(df.pivot_table(index='dataset', columns='solver', values='solve_time'))"
   ]
  }
 ],
 "metadata": {
  "kernelspec": {
   "display_name": "Python 3",
   "language": "python",
   "name": "python3"
  },
  "language_info": {
   "codemirror_mode": {
    "name": "ipython",
    "version": 3
   },
   "file_extension": ".py",
   "mimetype": "text/x-python",
   "name": "python",
   "nbconvert_exporter": "python",
   "pygments_lexer": "ipython3",
   "version": "3.10.12"
  }
 },
 "nbformat": 4,
 "nbformat_minor": 2
}
