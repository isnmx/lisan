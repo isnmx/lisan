{
 "cells": [
  {
   "cell_type": "code",
   "execution_count": 13,
   "metadata": {},
   "outputs": [
    {
     "name": "stdout",
     "output_type": "stream",
     "text": [
      "Overwriting model.essence\n"
     ]
    }
   ],
   "source": [
    "%%writefile model.essence\n",
    "language Essence 1.3\n",
    "\n",
    "given weightLimit, volumeLimit : int\n",
    "given numItems : int\n",
    "\n",
    "letting items be domain int(1..numItems)\n",
    "\n",
    "given weights : function (total) items --> int\n",
    "given volumes : function (total) items --> int\n",
    "given impacts : function (total) items --> int\n",
    "\n",
    "find selected : set of items\n",
    "\n",
    "maximising sum i in selected . impacts(i)\n",
    "\n",
    "such that\n",
    "    (sum i in selected . weights(i)) <= weightLimit,\n",
    "    (sum i in selected . volumes(i)) <= volumeLimit"
   ]
  },
  {
   "cell_type": "code",
   "execution_count": 14,
   "metadata": {},
   "outputs": [
    {
     "name": "stdout",
     "output_type": "stream",
     "text": [
      "Overwriting data.essence\n"
     ]
    }
   ],
   "source": [
    "%%writefile data.essence\n",
    "language Essence 1.3\n",
    "\n",
    "letting weightLimit be 20\n",
    "letting volumeLimit be 40\n",
    "letting numItems be 10\n",
    "\n",
    "\n",
    "letting weights be function(\n",
    "    1 --> 2,\n",
    "    2 --> 4,\n",
    "    3 --> 1,\n",
    "    4 --> 6,\n",
    "    5 --> 1,\n",
    "    6 --> 1,\n",
    "    7 --> 8,\n",
    "    8 --> 5,\n",
    "    9 --> 10,\n",
    "    10 --> 2\n",
    ")\n",
    "\n",
    "\n",
    "letting volumes be function(\n",
    "    1 --> 3,\n",
    "    2 --> 5,\n",
    "    3 --> 2,\n",
    "    4 --> 12,\n",
    "    5 --> 1,\n",
    "    6 --> 1,\n",
    "    7 --> 20,\n",
    "    8 --> 6,\n",
    "    9 --> 25,\n",
    "    10 --> 3\n",
    ")\n",
    "\n",
    "\n",
    "letting impacts be function(\n",
    "    1 --> 10,\n",
    "    2 --> 12,\n",
    "    3 --> 8,\n",
    "    4 --> 15,\n",
    "    5 --> 7,\n",
    "    6 --> 6,\n",
    "    7 --> 16,\n",
    "    8 --> 14,\n",
    "    9 --> 20,\n",
    "    10 --> 9\n",
    ")"
   ]
  },
  {
   "cell_type": "code",
   "execution_count": 15,
   "metadata": {},
   "outputs": [
    {
     "name": "stdout",
     "output_type": "stream",
     "text": [
      "Using cached models.\n",
      "Savile Row: model000001.eprime data.essence\n",
      "Running minion for domain filtering.\n",
      "Running solver: minion\n",
      "Copying solution to: model-data.solution\n",
      "Copying solution to: model-data.solution.json\n"
     ]
    }
   ],
   "source": [
    "!conjure solve model.essence data.essence --output-format=json"
   ]
  }
 ],
 "metadata": {
  "kernelspec": {
   "display_name": "Python 3",
   "language": "python",
   "name": "python3"
  },
  "language_info": {
   "codemirror_mode": {
    "name": "ipython",
    "version": 3
   },
   "file_extension": ".py",
   "mimetype": "text/x-python",
   "name": "python",
   "nbconvert_exporter": "python",
   "pygments_lexer": "ipython3",
   "version": "3.10.12"
  }
 },
 "nbformat": 4,
 "nbformat_minor": 2
}
