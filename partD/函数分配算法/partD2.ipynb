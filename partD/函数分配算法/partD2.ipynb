{
 "cells": [
  {
   "cell_type": "code",
   "execution_count": 7,
   "metadata": {},
   "outputs": [
    {
     "name": "stdout",
     "output_type": "stream",
     "text": [
      "Overwriting model.essence\n"
     ]
    }
   ],
   "source": [
    "%%writefile model.essence\n",
    "language Essence 1.3\n",
    "\n",
    "given weightLimit, volumeLimit : int\n",
    "given numItems : int\n",
    "\n",
    "letting ITEMS be domain int(1..numItems)\n",
    "\n",
    "given weights : function (total) ITEMS --> int\n",
    "given volumes : function (total) ITEMS --> int\n",
    "given impacts : function (total) ITEMS --> int\n",
    "\n",
    "find assignment : function ITEMS --> int(0..2)\n",
    "\n",
    "maximising sum i : ITEMS . impacts(i) * toInt(assignment(i) > 0)\n",
    "\n",
    "such that\n",
    "\n",
    "    (sum i : ITEMS . weights(i) * toInt(assignment(i) = 1)) <= weightLimit / 2,\n",
    "    (sum i : ITEMS . volumes(i) * toInt(assignment(i) = 1)) <= volumeLimit / 2,\n",
    "    \n",
    "    (sum i : ITEMS . weights(i) * toInt(assignment(i) = 2)) <= weightLimit / 2,\n",
    "    (sum i : ITEMS . volumes(i) * toInt(assignment(i) = 2)) <= volumeLimit / 2"
   ]
  },
  {
   "cell_type": "code",
   "execution_count": 8,
   "metadata": {},
   "outputs": [
    {
     "name": "stdout",
     "output_type": "stream",
     "text": [
      "Overwriting data.essence\n"
     ]
    }
   ],
   "source": [
    "%%writefile data.essence\n",
    "language Essence 1.3\n",
    "\n",
    "letting weightLimit be 6000  \n",
    "letting volumeLimit be 6000  \n",
    "letting numItems be 11\n",
    "\n",
    "letting weights be function(\n",
    "    1 --> 500,   \n",
    "    2 --> 500,   \n",
    "    3 --> 600,   \n",
    "    4 --> 200,   \n",
    "    5 --> 1000,  \n",
    "    6 --> 700,   \n",
    "    7 --> 900,   \n",
    "    8 --> 1000,  \n",
    "    9 --> 500,   \n",
    "    10 --> 1000, \n",
    "    11 --> 700   \n",
    ")\n",
    "\n",
    "letting volumes be function(\n",
    "    1 --> 1000,  \n",
    "    2 --> 1000, \n",
    "    3 --> 1500,  \n",
    "    4 --> 500,  \n",
    "    5 --> 1500,  \n",
    "    6 --> 1000,  \n",
    "    7 --> 1600,  \n",
    "    8 --> 1200,  \n",
    "    9 --> 700,   \n",
    "    10 --> 2000,\n",
    "    11 --> 1000  \n",
    ")\n",
    "\n",
    "letting impacts be function(\n",
    "    1 --> 8,     \n",
    "    2 --> 7,     \n",
    "    3 --> 8,     \n",
    "    4 --> 8,     \n",
    "    5 --> 8,    \n",
    "    6 --> 7,    \n",
    "    7 --> 9,     \n",
    "    8 --> 10,    \n",
    "    9 --> 7,    \n",
    "    10 --> 4,   \n",
    "    11 --> 5     \n",
    ")"
   ]
  },
  {
   "cell_type": "code",
   "execution_count": 9,
   "metadata": {},
   "outputs": [
    {
     "name": "stdout",
     "output_type": "stream",
     "text": [
      "Generating models for model.essence\n",
      "Generated models: model000001.eprime\n",
      "Saved under: conjure-output\n",
      "Savile Row: model000001.eprime data.essence\n",
      "Running minion for domain filtering.\n",
      "Running solver: minion\n",
      "Copying solution to: model-data.solution\n",
      "Copying solution to: model-data.solution.json\n"
     ]
    }
   ],
   "source": [
    "!conjure solve model.essence data.essence --output-format=json"
   ]
  }
 ],
 "metadata": {
  "kernelspec": {
   "display_name": "Python 3",
   "language": "python",
   "name": "python3"
  },
  "language_info": {
   "codemirror_mode": {
    "name": "ipython",
    "version": 3
   },
   "file_extension": ".py",
   "mimetype": "text/x-python",
   "name": "python",
   "nbconvert_exporter": "python",
   "pygments_lexer": "ipython3",
   "version": "3.10.12"
  }
 },
 "nbformat": 4,
 "nbformat_minor": 2
}
